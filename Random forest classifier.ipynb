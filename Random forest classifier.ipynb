{
 "cells": [
  {
   "cell_type": "code",
   "execution_count": 1,
   "metadata": {},
   "outputs": [
    {
     "name": "stdout",
     "output_type": "stream",
     "text": [
      "Collecting gensim\n",
      "  Downloading gensim-3.8.3-cp37-cp37m-macosx_10_9_x86_64.whl (24.2 MB)\n",
      "\u001b[K     |████████████████████████████████| 24.2 MB 6.5 MB/s eta 0:00:01     |██████████████▎                 | 10.8 MB 4.5 MB/s eta 0:00:03\n",
      "\u001b[?25hCollecting smart-open>=1.8.1\n",
      "  Downloading smart_open-2.0.0.tar.gz (103 kB)\n",
      "\u001b[K     |████████████████████████████████| 103 kB 7.1 MB/s eta 0:00:01\n",
      "\u001b[?25hRequirement already satisfied: numpy>=1.11.3 in /Users/yoiching/opt/anaconda3/lib/python3.7/site-packages (from gensim) (1.18.1)\n",
      "Requirement already satisfied: six>=1.5.0 in /Users/yoiching/opt/anaconda3/lib/python3.7/site-packages (from gensim) (1.14.0)\n",
      "Requirement already satisfied: scipy>=0.18.1 in /Users/yoiching/opt/anaconda3/lib/python3.7/site-packages (from gensim) (1.4.1)\n",
      "Requirement already satisfied: requests in /Users/yoiching/opt/anaconda3/lib/python3.7/site-packages (from smart-open>=1.8.1->gensim) (2.22.0)\n",
      "Requirement already satisfied: boto in /Users/yoiching/opt/anaconda3/lib/python3.7/site-packages (from smart-open>=1.8.1->gensim) (2.49.0)\n",
      "Collecting boto3\n",
      "  Downloading boto3-1.14.13-py2.py3-none-any.whl (128 kB)\n",
      "\u001b[K     |████████████████████████████████| 128 kB 5.2 MB/s eta 0:00:01\n",
      "\u001b[?25hRequirement already satisfied: idna<2.9,>=2.5 in /Users/yoiching/opt/anaconda3/lib/python3.7/site-packages (from requests->smart-open>=1.8.1->gensim) (2.8)\n",
      "Requirement already satisfied: urllib3!=1.25.0,!=1.25.1,<1.26,>=1.21.1 in /Users/yoiching/opt/anaconda3/lib/python3.7/site-packages (from requests->smart-open>=1.8.1->gensim) (1.25.8)\n",
      "Requirement already satisfied: chardet<3.1.0,>=3.0.2 in /Users/yoiching/opt/anaconda3/lib/python3.7/site-packages (from requests->smart-open>=1.8.1->gensim) (3.0.4)\n",
      "Requirement already satisfied: certifi>=2017.4.17 in /Users/yoiching/opt/anaconda3/lib/python3.7/site-packages (from requests->smart-open>=1.8.1->gensim) (2019.11.28)\n",
      "Collecting s3transfer<0.4.0,>=0.3.0\n",
      "  Downloading s3transfer-0.3.3-py2.py3-none-any.whl (69 kB)\n",
      "\u001b[K     |████████████████████████████████| 69 kB 3.8 MB/s eta 0:00:011\n",
      "\u001b[?25hCollecting jmespath<1.0.0,>=0.7.1\n",
      "  Downloading jmespath-0.10.0-py2.py3-none-any.whl (24 kB)\n",
      "Collecting botocore<1.18.0,>=1.17.13\n",
      "  Downloading botocore-1.17.13-py2.py3-none-any.whl (6.3 MB)\n",
      "\u001b[K     |████████████████████████████████| 6.3 MB 4.3 MB/s eta 0:00:01\n",
      "\u001b[?25hRequirement already satisfied: python-dateutil<3.0.0,>=2.1 in /Users/yoiching/opt/anaconda3/lib/python3.7/site-packages (from botocore<1.18.0,>=1.17.13->boto3->smart-open>=1.8.1->gensim) (2.8.1)\n",
      "Collecting docutils<0.16,>=0.10\n",
      "  Downloading docutils-0.15.2-py3-none-any.whl (547 kB)\n",
      "\u001b[K     |████████████████████████████████| 547 kB 5.0 MB/s eta 0:00:01\n",
      "\u001b[?25hBuilding wheels for collected packages: smart-open\n",
      "  Building wheel for smart-open (setup.py) ... \u001b[?25ldone\n",
      "\u001b[?25h  Created wheel for smart-open: filename=smart_open-2.0.0-py3-none-any.whl size=101341 sha256=cfb06ee305a4bc0008d85cf697ce23defa37b00367e2aff40f58def8de8779fe\n",
      "  Stored in directory: /Users/yoiching/Library/Caches/pip/wheels/bb/1c/9c/412ec03f6d5ac7d41f4b965bde3fc0d1bd201da5ba3e2636de\n",
      "Successfully built smart-open\n",
      "Installing collected packages: jmespath, docutils, botocore, s3transfer, boto3, smart-open, gensim\n",
      "  Attempting uninstall: docutils\n",
      "    Found existing installation: docutils 0.16\n",
      "    Uninstalling docutils-0.16:\n",
      "      Successfully uninstalled docutils-0.16\n",
      "Successfully installed boto3-1.14.13 botocore-1.17.13 docutils-0.15.2 gensim-3.8.3 jmespath-0.10.0 s3transfer-0.3.3 smart-open-2.0.0\n"
     ]
    }
   ],
   "source": [
    "!pip install gensim"
   ]
  },
  {
   "cell_type": "code",
   "execution_count": 2,
   "metadata": {},
   "outputs": [],
   "source": [
    "import gensim"
   ]
  },
  {
   "cell_type": "code",
   "execution_count": 3,
   "metadata": {},
   "outputs": [
    {
     "name": "stderr",
     "output_type": "stream",
     "text": [
      "/Users/yoiching/opt/anaconda3/lib/python3.7/site-packages/tensorflow/python/framework/dtypes.py:526: FutureWarning: Passing (type, 1) or '1type' as a synonym of type is deprecated; in a future version of numpy, it will be understood as (type, (1,)) / '(1,)type'.\n",
      "  _np_qint8 = np.dtype([(\"qint8\", np.int8, 1)])\n",
      "/Users/yoiching/opt/anaconda3/lib/python3.7/site-packages/tensorflow/python/framework/dtypes.py:527: FutureWarning: Passing (type, 1) or '1type' as a synonym of type is deprecated; in a future version of numpy, it will be understood as (type, (1,)) / '(1,)type'.\n",
      "  _np_quint8 = np.dtype([(\"quint8\", np.uint8, 1)])\n",
      "/Users/yoiching/opt/anaconda3/lib/python3.7/site-packages/tensorflow/python/framework/dtypes.py:528: FutureWarning: Passing (type, 1) or '1type' as a synonym of type is deprecated; in a future version of numpy, it will be understood as (type, (1,)) / '(1,)type'.\n",
      "  _np_qint16 = np.dtype([(\"qint16\", np.int16, 1)])\n",
      "/Users/yoiching/opt/anaconda3/lib/python3.7/site-packages/tensorflow/python/framework/dtypes.py:529: FutureWarning: Passing (type, 1) or '1type' as a synonym of type is deprecated; in a future version of numpy, it will be understood as (type, (1,)) / '(1,)type'.\n",
      "  _np_quint16 = np.dtype([(\"quint16\", np.uint16, 1)])\n",
      "/Users/yoiching/opt/anaconda3/lib/python3.7/site-packages/tensorflow/python/framework/dtypes.py:530: FutureWarning: Passing (type, 1) or '1type' as a synonym of type is deprecated; in a future version of numpy, it will be understood as (type, (1,)) / '(1,)type'.\n",
      "  _np_qint32 = np.dtype([(\"qint32\", np.int32, 1)])\n",
      "/Users/yoiching/opt/anaconda3/lib/python3.7/site-packages/tensorflow/python/framework/dtypes.py:535: FutureWarning: Passing (type, 1) or '1type' as a synonym of type is deprecated; in a future version of numpy, it will be understood as (type, (1,)) / '(1,)type'.\n",
      "  np_resource = np.dtype([(\"resource\", np.ubyte, 1)])\n"
     ]
    }
   ],
   "source": [
    "import jieba as ja\n",
    "import jieba.analyse as jia\n",
    "import jieba.posseg as pseg\n",
    "from pprint import pprint\n",
    "import pandas as pd\n",
    "import re\n",
    "import pycantonese as pc\n",
    "import string\n",
    "from ckiptagger import data_utils, construct_dictionary, WS, POS, NER"
   ]
  },
  {
   "cell_type": "code",
   "execution_count": 4,
   "metadata": {},
   "outputs": [
    {
     "name": "stdout",
     "output_type": "stream",
     "text": [
      "\n",
      "WARNING: The TensorFlow contrib module will not be included in TensorFlow 2.0.\n",
      "For more information, please see:\n",
      "  * https://github.com/tensorflow/community/blob/master/rfcs/20180907-contrib-sunset.md\n",
      "  * https://github.com/tensorflow/addons\n",
      "If you depend on functionality not listed there, please file an issue.\n",
      "\n"
     ]
    }
   ],
   "source": [
    "ws = WS(\"/Users/yoiching/Downloads/data\")\n",
    "pos = POS(\"/Users/yoiching/Downloads/data\")\n",
    "ner = NER(\"/Users/yoiching/Downloads/data\")"
   ]
  },
  {
   "cell_type": "code",
   "execution_count": 6,
   "metadata": {},
   "outputs": [
    {
     "data": {
      "text/html": [
       "<div>\n",
       "<style scoped>\n",
       "    .dataframe tbody tr th:only-of-type {\n",
       "        vertical-align: middle;\n",
       "    }\n",
       "\n",
       "    .dataframe tbody tr th {\n",
       "        vertical-align: top;\n",
       "    }\n",
       "\n",
       "    .dataframe thead th {\n",
       "        text-align: right;\n",
       "    }\n",
       "</style>\n",
       "<table border=\"1\" class=\"dataframe\">\n",
       "  <thead>\n",
       "    <tr style=\"text-align: right;\">\n",
       "      <th></th>\n",
       "      <th>Link</th>\n",
       "      <th>Topic</th>\n",
       "      <th>Label</th>\n",
       "      <th>Reason</th>\n",
       "      <th>ref</th>\n",
       "    </tr>\n",
       "  </thead>\n",
       "  <tbody>\n",
       "    <tr>\n",
       "      <th>0</th>\n",
       "      <td>https://cofacts.g0v.tw/article/2slt5g65d5syi</td>\n",
       "      <td>敦睦艦隊確診個案到訪地點:\\n 更新日指:109,4, 18+\\n 1、左營區:漢神巨蛋(添...</td>\n",
       "      <td>❌ Contains misinformation</td>\n",
       "      <td>假的。謠言內提到的許多地點都是不實訊息，也請特別注意裡面有些字體其實並非台灣用字或是牛排寫成...</td>\n",
       "      <td>Referencehttps://www.facebook.com/995878500506...</td>\n",
       "    </tr>\n",
       "    <tr>\n",
       "      <th>1</th>\n",
       "      <td>https://cofacts.g0v.tw/article/1i8lr7ufe7qcp</td>\n",
       "      <td>三艘軍艦744人，4/15離開左營海軍基地，4/18全體召回，第一次採檢及18日今分19日新...</td>\n",
       "      <td>⭕ Contains true information</td>\n",
       "      <td>台灣官方表示，已經透過所有官兵的手機，針對其家人或朋友等接觸者發送簡訊，提醒接觸者須自主健康...</td>\n",
       "      <td>Referencehttps://news.ltn.com.tw/news/life/bre...</td>\n",
       "    </tr>\n",
       "    <tr>\n",
       "      <th>2</th>\n",
       "      <td>https://cofacts.g0v.tw/article/1vhszuoepjlpj</td>\n",
       "      <td>https://youtu.be/cukrLiPj2Ck金正恩委員長死去【緊急ニュース速報】...</td>\n",
       "      <td>❌ Contains misinformation</td>\n",
       "      <td>合成剪輯過去 2011 年發生的影片片段所做的謠言影片，並非近期的狀況。</td>\n",
       "      <td>Reference【假影片】金正恩委員長死去？謠言！剪接2011金正日葬禮片段\\n http...</td>\n",
       "    </tr>\n",
       "    <tr>\n",
       "      <th>3</th>\n",
       "      <td>https://cofacts.g0v.tw/article/32rvzmxik5p3z</td>\n",
       "      <td>金正恩腦死 享年36歲，2020真是恐怖的一年\\n \\n #金正恩指定勞動黨第一副部長金與正...</td>\n",
       "      <td>❌ Contains misinformation</td>\n",
       "      <td>南韓政府收集到的情報以及中共中央對外聯絡消息人士都表示，金正恩並非病危。韓聯社報導，南韓政府...</td>\n",
       "      <td>Referencehttps://tw.appledaily.com/internation...</td>\n",
       "    </tr>\n",
       "    <tr>\n",
       "      <th>4</th>\n",
       "      <td>https://cofacts.g0v.tw/article/2nrmw11qaxzij</td>\n",
       "      <td>記得 今天、明天 2天內要去家樂福買東西順便領取1600元政府補助振興卷。切記！切記！不領白...</td>\n",
       "      <td>❌ Contains misinformation</td>\n",
       "      <td>請注意這並不是政府補助的振興卷，內文的今天跟明天2天也並沒有明確定義，實際上是只有4月19日...</td>\n",
       "      <td>Reference家樂福搶先祭出八億振興劵\\n https://news.sina.com....</td>\n",
       "    </tr>\n",
       "  </tbody>\n",
       "</table>\n",
       "</div>"
      ],
      "text/plain": [
       "                                           Link  \\\n",
       "0  https://cofacts.g0v.tw/article/2slt5g65d5syi   \n",
       "1  https://cofacts.g0v.tw/article/1i8lr7ufe7qcp   \n",
       "2  https://cofacts.g0v.tw/article/1vhszuoepjlpj   \n",
       "3  https://cofacts.g0v.tw/article/32rvzmxik5p3z   \n",
       "4  https://cofacts.g0v.tw/article/2nrmw11qaxzij   \n",
       "\n",
       "                                               Topic  \\\n",
       "0  敦睦艦隊確診個案到訪地點:\\n 更新日指:109,4, 18+\\n 1、左營區:漢神巨蛋(添...   \n",
       "1  三艘軍艦744人，4/15離開左營海軍基地，4/18全體召回，第一次採檢及18日今分19日新...   \n",
       "2  https://youtu.be/cukrLiPj2Ck金正恩委員長死去【緊急ニュース速報】...   \n",
       "3  金正恩腦死 享年36歲，2020真是恐怖的一年\\n \\n #金正恩指定勞動黨第一副部長金與正...   \n",
       "4  記得 今天、明天 2天內要去家樂福買東西順便領取1600元政府補助振興卷。切記！切記！不領白...   \n",
       "\n",
       "                         Label  \\\n",
       "0    ❌ Contains misinformation   \n",
       "1  ⭕ Contains true information   \n",
       "2    ❌ Contains misinformation   \n",
       "3    ❌ Contains misinformation   \n",
       "4    ❌ Contains misinformation   \n",
       "\n",
       "                                              Reason  \\\n",
       "0  假的。謠言內提到的許多地點都是不實訊息，也請特別注意裡面有些字體其實並非台灣用字或是牛排寫成...   \n",
       "1  台灣官方表示，已經透過所有官兵的手機，針對其家人或朋友等接觸者發送簡訊，提醒接觸者須自主健康...   \n",
       "2               合成剪輯過去 2011 年發生的影片片段所做的謠言影片，並非近期的狀況。   \n",
       "3  南韓政府收集到的情報以及中共中央對外聯絡消息人士都表示，金正恩並非病危。韓聯社報導，南韓政府...   \n",
       "4  請注意這並不是政府補助的振興卷，內文的今天跟明天2天也並沒有明確定義，實際上是只有4月19日...   \n",
       "\n",
       "                                                 ref  \n",
       "0  Referencehttps://www.facebook.com/995878500506...  \n",
       "1  Referencehttps://news.ltn.com.tw/news/life/bre...  \n",
       "2  Reference【假影片】金正恩委員長死去？謠言！剪接2011金正日葬禮片段\\n http...  \n",
       "3  Referencehttps://tw.appledaily.com/internation...  \n",
       "4  Reference家樂福搶先祭出八億振興劵\\n https://news.sina.com....  "
      ]
     },
     "execution_count": 6,
     "metadata": {},
     "output_type": "execute_result"
    }
   ],
   "source": [
    "df = pd.read_csv('/Users/yoiching/Downloads/CoFact.csv')\n",
    "df.head()"
   ]
  },
  {
   "cell_type": "code",
   "execution_count": 7,
   "metadata": {},
   "outputs": [
    {
     "data": {
      "text/html": [
       "<div>\n",
       "<style scoped>\n",
       "    .dataframe tbody tr th:only-of-type {\n",
       "        vertical-align: middle;\n",
       "    }\n",
       "\n",
       "    .dataframe tbody tr th {\n",
       "        vertical-align: top;\n",
       "    }\n",
       "\n",
       "    .dataframe thead th {\n",
       "        text-align: right;\n",
       "    }\n",
       "</style>\n",
       "<table border=\"1\" class=\"dataframe\">\n",
       "  <thead>\n",
       "    <tr style=\"text-align: right;\">\n",
       "      <th></th>\n",
       "      <th>Topic</th>\n",
       "      <th>Reason</th>\n",
       "      <th>Label</th>\n",
       "    </tr>\n",
       "  </thead>\n",
       "  <tbody>\n",
       "    <tr>\n",
       "      <th>0</th>\n",
       "      <td>敦睦艦隊確診個案到訪地點:\\n 更新日指:109,4, 18+\\n 1、左營區:漢神巨蛋(添...</td>\n",
       "      <td>假的。謠言內提到的許多地點都是不實訊息，也請特別注意裡面有些字體其實並非台灣用字或是牛排寫成...</td>\n",
       "      <td>❌ Contains misinformation</td>\n",
       "    </tr>\n",
       "    <tr>\n",
       "      <th>1</th>\n",
       "      <td>三艘軍艦744人，4/15離開左營海軍基地，4/18全體召回，第一次採檢及18日今分19日新...</td>\n",
       "      <td>台灣官方表示，已經透過所有官兵的手機，針對其家人或朋友等接觸者發送簡訊，提醒接觸者須自主健康...</td>\n",
       "      <td>⭕ Contains true information</td>\n",
       "    </tr>\n",
       "    <tr>\n",
       "      <th>2</th>\n",
       "      <td>https://youtu.be/cukrLiPj2Ck金正恩委員長死去【緊急ニュース速報】...</td>\n",
       "      <td>合成剪輯過去 2011 年發生的影片片段所做的謠言影片，並非近期的狀況。</td>\n",
       "      <td>❌ Contains misinformation</td>\n",
       "    </tr>\n",
       "    <tr>\n",
       "      <th>3</th>\n",
       "      <td>金正恩腦死 享年36歲，2020真是恐怖的一年\\n \\n #金正恩指定勞動黨第一副部長金與正...</td>\n",
       "      <td>南韓政府收集到的情報以及中共中央對外聯絡消息人士都表示，金正恩並非病危。韓聯社報導，南韓政府...</td>\n",
       "      <td>❌ Contains misinformation</td>\n",
       "    </tr>\n",
       "    <tr>\n",
       "      <th>4</th>\n",
       "      <td>記得 今天、明天 2天內要去家樂福買東西順便領取1600元政府補助振興卷。切記！切記！不領白...</td>\n",
       "      <td>請注意這並不是政府補助的振興卷，內文的今天跟明天2天也並沒有明確定義，實際上是只有4月19日...</td>\n",
       "      <td>❌ Contains misinformation</td>\n",
       "    </tr>\n",
       "  </tbody>\n",
       "</table>\n",
       "</div>"
      ],
      "text/plain": [
       "                                               Topic  \\\n",
       "0  敦睦艦隊確診個案到訪地點:\\n 更新日指:109,4, 18+\\n 1、左營區:漢神巨蛋(添...   \n",
       "1  三艘軍艦744人，4/15離開左營海軍基地，4/18全體召回，第一次採檢及18日今分19日新...   \n",
       "2  https://youtu.be/cukrLiPj2Ck金正恩委員長死去【緊急ニュース速報】...   \n",
       "3  金正恩腦死 享年36歲，2020真是恐怖的一年\\n \\n #金正恩指定勞動黨第一副部長金與正...   \n",
       "4  記得 今天、明天 2天內要去家樂福買東西順便領取1600元政府補助振興卷。切記！切記！不領白...   \n",
       "\n",
       "                                              Reason  \\\n",
       "0  假的。謠言內提到的許多地點都是不實訊息，也請特別注意裡面有些字體其實並非台灣用字或是牛排寫成...   \n",
       "1  台灣官方表示，已經透過所有官兵的手機，針對其家人或朋友等接觸者發送簡訊，提醒接觸者須自主健康...   \n",
       "2               合成剪輯過去 2011 年發生的影片片段所做的謠言影片，並非近期的狀況。   \n",
       "3  南韓政府收集到的情報以及中共中央對外聯絡消息人士都表示，金正恩並非病危。韓聯社報導，南韓政府...   \n",
       "4  請注意這並不是政府補助的振興卷，內文的今天跟明天2天也並沒有明確定義，實際上是只有4月19日...   \n",
       "\n",
       "                         Label  \n",
       "0    ❌ Contains misinformation  \n",
       "1  ⭕ Contains true information  \n",
       "2    ❌ Contains misinformation  \n",
       "3    ❌ Contains misinformation  \n",
       "4    ❌ Contains misinformation  "
      ]
     },
     "execution_count": 7,
     "metadata": {},
     "output_type": "execute_result"
    }
   ],
   "source": [
    "data = df[[\"Topic\", \"Reason\", \"Label\"]].copy()\n",
    "data.head()"
   ]
  },
  {
   "cell_type": "code",
   "execution_count": 8,
   "metadata": {},
   "outputs": [],
   "source": [
    "file = open(\"/Users/yoiching/Downloads/stop_word_zh.txt\", \"r\")\n",
    "stopwords = file.read().split('\\n')\n",
    "file.close()"
   ]
  },
  {
   "cell_type": "code",
   "execution_count": 9,
   "metadata": {},
   "outputs": [],
   "source": [
    "def remove_bad_string(sentence):\n",
    "    # remove old style retweet text \"RT\"\n",
    "    sentence = re.sub(r'^RT[\\s]+', '', sentence)\n",
    "\n",
    "    # remove hyperlinks\n",
    "    sentence = re.sub(r'https?:\\/\\/.*[\\r\\n]*', '', sentence)\n",
    "    \n",
    "    #sentence = re.sub(r'#', '', sentence)\n",
    "    \n",
    "    sentence = re.sub(r'\\s+', '', sentence)\n",
    "    #remove space\n",
    "    sentence = re.sub(r' ', '', sentence)\n",
    "    #1,600 -> 1600\n",
    "    sentence = re.sub(r',', '', sentence)\n",
    "    \n",
    "    return sentence                    \n",
    "\n",
    "def filter_stopword(sentence):\n",
    "    \n",
    "    filter_word=[]\n",
    "    filter_list=[string.punctuation, stopwords]\n",
    "    \n",
    "    for word in sentence:\n",
    "        for filter_words in filter_list:\n",
    "            if word in filter_words:\n",
    "                break\n",
    "            if word == '\\n':\n",
    "                break\n",
    "            # 7-11/number of cases\n",
    "            #if word.isnumeric():\n",
    "            #    break\n",
    "        else:\n",
    "            filter_word.append(word)\n",
    "    \n",
    "    return filter_word"
   ]
  },
  {
   "cell_type": "code",
   "execution_count": 10,
   "metadata": {},
   "outputs": [],
   "source": [
    "def ckip_seg(sentence):\n",
    "    sentence = remove_bad_string(sentence)\n",
    "    sentence = ws([sentence])\n",
    "    sentence = sentence[0]\n",
    "    sentence = filter_stopword(sentence)\n",
    "    return sentence"
   ]
  },
  {
   "cell_type": "code",
   "execution_count": 49,
   "metadata": {},
   "outputs": [
    {
     "data": {
      "text/html": [
       "<div>\n",
       "<style scoped>\n",
       "    .dataframe tbody tr th:only-of-type {\n",
       "        vertical-align: middle;\n",
       "    }\n",
       "\n",
       "    .dataframe tbody tr th {\n",
       "        vertical-align: top;\n",
       "    }\n",
       "\n",
       "    .dataframe thead th {\n",
       "        text-align: right;\n",
       "    }\n",
       "</style>\n",
       "<table border=\"1\" class=\"dataframe\">\n",
       "  <thead>\n",
       "    <tr style=\"text-align: right;\">\n",
       "      <th></th>\n",
       "      <th>Unnamed: 0</th>\n",
       "      <th>topic</th>\n",
       "      <th>政治</th>\n",
       "      <th>健康</th>\n",
       "    </tr>\n",
       "  </thead>\n",
       "  <tbody>\n",
       "    <tr>\n",
       "      <th>0</th>\n",
       "      <td>0</td>\n",
       "      <td>敦睦艦隊確診個案到訪地點:\\n 更新日指:109,4, 18+\\n 1、左營區:漢神巨蛋(添...</td>\n",
       "      <td>0</td>\n",
       "      <td>1</td>\n",
       "    </tr>\n",
       "    <tr>\n",
       "      <th>1</th>\n",
       "      <td>1</td>\n",
       "      <td>三艘軍艦744人，4/15離開左營海軍基地，4/18全體召回，第一次採檢及18日今分19日新...</td>\n",
       "      <td>0</td>\n",
       "      <td>1</td>\n",
       "    </tr>\n",
       "    <tr>\n",
       "      <th>2</th>\n",
       "      <td>2</td>\n",
       "      <td>https://youtu.be/cukrLiPj2Ck金正恩委員長死去【緊急ニュース速報】...</td>\n",
       "      <td>1</td>\n",
       "      <td>0</td>\n",
       "    </tr>\n",
       "    <tr>\n",
       "      <th>3</th>\n",
       "      <td>3</td>\n",
       "      <td>金正恩腦死 享年36歲，2020真是恐怖的一年\\n \\n #金正恩指定勞動黨第一副部長金與正...</td>\n",
       "      <td>1</td>\n",
       "      <td>0</td>\n",
       "    </tr>\n",
       "    <tr>\n",
       "      <th>4</th>\n",
       "      <td>4</td>\n",
       "      <td>記得 今天、明天 2天內要去家樂福買東西順便領取1600元政府補助振興卷。切記！切記！不領白...</td>\n",
       "      <td>1</td>\n",
       "      <td>0</td>\n",
       "    </tr>\n",
       "  </tbody>\n",
       "</table>\n",
       "</div>"
      ],
      "text/plain": [
       "   Unnamed: 0                                              topic  政治  健康\n",
       "0           0  敦睦艦隊確診個案到訪地點:\\n 更新日指:109,4, 18+\\n 1、左營區:漢神巨蛋(添...   0   1\n",
       "1           1  三艘軍艦744人，4/15離開左營海軍基地，4/18全體召回，第一次採檢及18日今分19日新...   0   1\n",
       "2           2  https://youtu.be/cukrLiPj2Ck金正恩委員長死去【緊急ニュース速報】...   1   0\n",
       "3           3  金正恩腦死 享年36歲，2020真是恐怖的一年\\n \\n #金正恩指定勞動黨第一副部長金與正...   1   0\n",
       "4           4  記得 今天、明天 2天內要去家樂福買東西順便領取1600元政府補助振興卷。切記！切記！不領白...   1   0"
      ]
     },
     "execution_count": 49,
     "metadata": {},
     "output_type": "execute_result"
    }
   ],
   "source": [
    "df = pd.read_csv(\"/Users/yoiching/Downloads/cofact_label.csv\")\n",
    "df.head()"
   ]
  },
  {
   "cell_type": "code",
   "execution_count": 50,
   "metadata": {},
   "outputs": [],
   "source": [
    "df = df.drop(df.columns[df.columns.str.contains('unnamed',case = False)],axis = 1)"
   ]
  },
  {
   "cell_type": "code",
   "execution_count": 73,
   "metadata": {},
   "outputs": [
    {
     "name": "stderr",
     "output_type": "stream",
     "text": [
      "/Users/yoiching/opt/anaconda3/lib/python3.7/site-packages/ipykernel_launcher.py:6: SettingWithCopyWarning: \n",
      "A value is trying to be set on a copy of a slice from a DataFrame\n",
      "\n",
      "See the caveats in the documentation: https://pandas.pydata.org/pandas-docs/stable/user_guide/indexing.html#returning-a-view-versus-a-copy\n",
      "  \n",
      "/Users/yoiching/opt/anaconda3/lib/python3.7/site-packages/ipykernel_launcher.py:4: SettingWithCopyWarning: \n",
      "A value is trying to be set on a copy of a slice from a DataFrame\n",
      "\n",
      "See the caveats in the documentation: https://pandas.pydata.org/pandas-docs/stable/user_guide/indexing.html#returning-a-view-versus-a-copy\n",
      "  after removing the cwd from sys.path.\n",
      "/Users/yoiching/opt/anaconda3/lib/python3.7/site-packages/ipykernel_launcher.py:8: SettingWithCopyWarning: \n",
      "A value is trying to be set on a copy of a slice from a DataFrame\n",
      "\n",
      "See the caveats in the documentation: https://pandas.pydata.org/pandas-docs/stable/user_guide/indexing.html#returning-a-view-versus-a-copy\n",
      "  \n"
     ]
    },
    {
     "data": {
      "text/html": [
       "<div>\n",
       "<style scoped>\n",
       "    .dataframe tbody tr th:only-of-type {\n",
       "        vertical-align: middle;\n",
       "    }\n",
       "\n",
       "    .dataframe tbody tr th {\n",
       "        vertical-align: top;\n",
       "    }\n",
       "\n",
       "    .dataframe thead th {\n",
       "        text-align: right;\n",
       "    }\n",
       "</style>\n",
       "<table border=\"1\" class=\"dataframe\">\n",
       "  <thead>\n",
       "    <tr style=\"text-align: right;\">\n",
       "      <th></th>\n",
       "      <th>topic</th>\n",
       "      <th>政治</th>\n",
       "      <th>健康</th>\n",
       "      <th>Cat</th>\n",
       "      <th>Tokenized</th>\n",
       "    </tr>\n",
       "  </thead>\n",
       "  <tbody>\n",
       "    <tr>\n",
       "      <th>0</th>\n",
       "      <td>敦睦艦隊確診個案到訪地點:\\n 更新日指:109,4, 18+\\n 1、左營區:漢神巨蛋(添...</td>\n",
       "      <td>0</td>\n",
       "      <td>1</td>\n",
       "      <td>健康</td>\n",
       "      <td>敦睦 艦隊 確診 個案 到訪 地點 更新 日指 109418 +1 左營區 漢神 巨蛋 添好...</td>\n",
       "    </tr>\n",
       "    <tr>\n",
       "      <th>1</th>\n",
       "      <td>三艘軍艦744人，4/15離開左營海軍基地，4/18全體召回，第一次採檢及18日今分19日新...</td>\n",
       "      <td>0</td>\n",
       "      <td>1</td>\n",
       "      <td>健康</td>\n",
       "      <td>艘 軍艦 744 人 4/15 離開 左營 海軍 基地 4/18 全體 召回 第一 次 採檢...</td>\n",
       "    </tr>\n",
       "    <tr>\n",
       "      <th>2</th>\n",
       "      <td>https://youtu.be/cukrLiPj2Ck金正恩委員長死去【緊急ニュース速報】...</td>\n",
       "      <td>1</td>\n",
       "      <td>0</td>\n",
       "      <td>政治</td>\n",
       "      <td>🔽 サ ブ チ ャ ン ネ ル か み な り お や じ の 楽屋 裏 🔽 か み な り...</td>\n",
       "    </tr>\n",
       "    <tr>\n",
       "      <th>3</th>\n",
       "      <td>金正恩腦死 享年36歲，2020真是恐怖的一年\\n \\n #金正恩指定勞動黨第一副部長金與正...</td>\n",
       "      <td>1</td>\n",
       "      <td>0</td>\n",
       "      <td>政治</td>\n",
       "      <td>金正恩 腦死 享年 36 歲 2020 真是 恐怖 年 金正恩 指定 勞動黨 第一 副部長 ...</td>\n",
       "    </tr>\n",
       "    <tr>\n",
       "      <th>4</th>\n",
       "      <td>記得 今天、明天 2天內要去家樂福買東西順便領取1600元政府補助振興卷。切記！切記！不領白...</td>\n",
       "      <td>1</td>\n",
       "      <td>0</td>\n",
       "      <td>政治</td>\n",
       "      <td>記得 今天 明天 天 家樂福 買 東西 順便 領取 1600 元 政府 補助 振興卷 切記 ...</td>\n",
       "    </tr>\n",
       "  </tbody>\n",
       "</table>\n",
       "</div>"
      ],
      "text/plain": [
       "                                               topic  政治  健康 Cat  \\\n",
       "0  敦睦艦隊確診個案到訪地點:\\n 更新日指:109,4, 18+\\n 1、左營區:漢神巨蛋(添...   0   1  健康   \n",
       "1  三艘軍艦744人，4/15離開左營海軍基地，4/18全體召回，第一次採檢及18日今分19日新...   0   1  健康   \n",
       "2  https://youtu.be/cukrLiPj2Ck金正恩委員長死去【緊急ニュース速報】...   1   0  政治   \n",
       "3  金正恩腦死 享年36歲，2020真是恐怖的一年\\n \\n #金正恩指定勞動黨第一副部長金與正...   1   0  政治   \n",
       "4  記得 今天、明天 2天內要去家樂福買東西順便領取1600元政府補助振興卷。切記！切記！不領白...   1   0  政治   \n",
       "\n",
       "                                           Tokenized  \n",
       "0  敦睦 艦隊 確診 個案 到訪 地點 更新 日指 109418 +1 左營區 漢神 巨蛋 添好...  \n",
       "1  艘 軍艦 744 人 4/15 離開 左營 海軍 基地 4/18 全體 召回 第一 次 採檢...  \n",
       "2  🔽 サ ブ チ ャ ン ネ ル か み な り お や じ の 楽屋 裏 🔽 か み な り...  \n",
       "3  金正恩 腦死 享年 36 歲 2020 真是 恐怖 年 金正恩 指定 勞動黨 第一 副部長 ...  \n",
       "4  記得 今天 明天 天 家樂福 買 東西 順便 領取 1600 元 政府 補助 振興卷 切記 ...  "
      ]
     },
     "execution_count": 73,
     "metadata": {},
     "output_type": "execute_result"
    }
   ],
   "source": [
    "df[\"Cat\"] = \"\"\n",
    "for i in range(len(df)):\n",
    "    if df[\"政治\"][i] == 1:\n",
    "        df[\"Cat\"][i] = \"政治\"\n",
    "    elif df[\"健康\"][i] == 1:\n",
    "        df[\"Cat\"][i] = \"健康\"\n",
    "    else:\n",
    "        df[\"Cat\"][i] = \"其他\"\n",
    "df.head()"
   ]
  },
  {
   "cell_type": "code",
   "execution_count": 56,
   "metadata": {},
   "outputs": [
    {
     "data": {
      "text/html": [
       "<div>\n",
       "<style scoped>\n",
       "    .dataframe tbody tr th:only-of-type {\n",
       "        vertical-align: middle;\n",
       "    }\n",
       "\n",
       "    .dataframe tbody tr th {\n",
       "        vertical-align: top;\n",
       "    }\n",
       "\n",
       "    .dataframe thead th {\n",
       "        text-align: right;\n",
       "    }\n",
       "</style>\n",
       "<table border=\"1\" class=\"dataframe\">\n",
       "  <thead>\n",
       "    <tr style=\"text-align: right;\">\n",
       "      <th></th>\n",
       "      <th>topic</th>\n",
       "      <th>政治</th>\n",
       "      <th>健康</th>\n",
       "      <th>Cat</th>\n",
       "      <th>Tokenized</th>\n",
       "    </tr>\n",
       "  </thead>\n",
       "  <tbody>\n",
       "    <tr>\n",
       "      <th>0</th>\n",
       "      <td>敦睦艦隊確診個案到訪地點:\\n 更新日指:109,4, 18+\\n 1、左營區:漢神巨蛋(添...</td>\n",
       "      <td>0</td>\n",
       "      <td>1</td>\n",
       "      <td>健康</td>\n",
       "      <td>[敦睦, 艦隊, 確診, 個案, 到訪, 地點, 更新, 日指, 109418, +1, 左...</td>\n",
       "    </tr>\n",
       "    <tr>\n",
       "      <th>1</th>\n",
       "      <td>三艘軍艦744人，4/15離開左營海軍基地，4/18全體召回，第一次採檢及18日今分19日新...</td>\n",
       "      <td>0</td>\n",
       "      <td>1</td>\n",
       "      <td>健康</td>\n",
       "      <td>[艘, 軍艦, 744, 人, 4/15, 離開, 左營, 海軍, 基地, 4/18, 全體...</td>\n",
       "    </tr>\n",
       "    <tr>\n",
       "      <th>2</th>\n",
       "      <td>https://youtu.be/cukrLiPj2Ck金正恩委員長死去【緊急ニュース速報】...</td>\n",
       "      <td>1</td>\n",
       "      <td>0</td>\n",
       "      <td>政治</td>\n",
       "      <td>[🔽, サ, ブ, チ, ャ, ン, ネ, ル, か, み, な, り, お, や, じ, ...</td>\n",
       "    </tr>\n",
       "    <tr>\n",
       "      <th>3</th>\n",
       "      <td>金正恩腦死 享年36歲，2020真是恐怖的一年\\n \\n #金正恩指定勞動黨第一副部長金與正...</td>\n",
       "      <td>1</td>\n",
       "      <td>0</td>\n",
       "      <td>政治</td>\n",
       "      <td>[金正恩, 腦死, 享年, 36, 歲, 2020, 真是, 恐怖, 年, 金正恩, 指定,...</td>\n",
       "    </tr>\n",
       "    <tr>\n",
       "      <th>4</th>\n",
       "      <td>記得 今天、明天 2天內要去家樂福買東西順便領取1600元政府補助振興卷。切記！切記！不領白...</td>\n",
       "      <td>1</td>\n",
       "      <td>0</td>\n",
       "      <td>政治</td>\n",
       "      <td>[記得, 今天, 明天, 天, 家樂福, 買, 東西, 順便, 領取, 1600, 元, 政...</td>\n",
       "    </tr>\n",
       "  </tbody>\n",
       "</table>\n",
       "</div>"
      ],
      "text/plain": [
       "                                               topic  政治  健康 Cat  \\\n",
       "0  敦睦艦隊確診個案到訪地點:\\n 更新日指:109,4, 18+\\n 1、左營區:漢神巨蛋(添...   0   1  健康   \n",
       "1  三艘軍艦744人，4/15離開左營海軍基地，4/18全體召回，第一次採檢及18日今分19日新...   0   1  健康   \n",
       "2  https://youtu.be/cukrLiPj2Ck金正恩委員長死去【緊急ニュース速報】...   1   0  政治   \n",
       "3  金正恩腦死 享年36歲，2020真是恐怖的一年\\n \\n #金正恩指定勞動黨第一副部長金與正...   1   0  政治   \n",
       "4  記得 今天、明天 2天內要去家樂福買東西順便領取1600元政府補助振興卷。切記！切記！不領白...   1   0  政治   \n",
       "\n",
       "                                           Tokenized  \n",
       "0  [敦睦, 艦隊, 確診, 個案, 到訪, 地點, 更新, 日指, 109418, +1, 左...  \n",
       "1  [艘, 軍艦, 744, 人, 4/15, 離開, 左營, 海軍, 基地, 4/18, 全體...  \n",
       "2  [🔽, サ, ブ, チ, ャ, ン, ネ, ル, か, み, な, り, お, や, じ, ...  \n",
       "3  [金正恩, 腦死, 享年, 36, 歲, 2020, 真是, 恐怖, 年, 金正恩, 指定,...  \n",
       "4  [記得, 今天, 明天, 天, 家樂福, 買, 東西, 順便, 領取, 1600, 元, 政...  "
      ]
     },
     "execution_count": 56,
     "metadata": {},
     "output_type": "execute_result"
    }
   ],
   "source": [
    "df[\"Tokenized\"] = df.topic.apply(ckip_seg)\n",
    "df.head()"
   ]
  },
  {
   "cell_type": "code",
   "execution_count": 58,
   "metadata": {},
   "outputs": [
    {
     "name": "stderr",
     "output_type": "stream",
     "text": [
      "/Users/yoiching/opt/anaconda3/lib/python3.7/site-packages/ipykernel_launcher.py:2: SettingWithCopyWarning: \n",
      "A value is trying to be set on a copy of a slice from a DataFrame\n",
      "\n",
      "See the caveats in the documentation: https://pandas.pydata.org/pandas-docs/stable/user_guide/indexing.html#returning-a-view-versus-a-copy\n",
      "  \n"
     ]
    },
    {
     "data": {
      "text/html": [
       "<div>\n",
       "<style scoped>\n",
       "    .dataframe tbody tr th:only-of-type {\n",
       "        vertical-align: middle;\n",
       "    }\n",
       "\n",
       "    .dataframe tbody tr th {\n",
       "        vertical-align: top;\n",
       "    }\n",
       "\n",
       "    .dataframe thead th {\n",
       "        text-align: right;\n",
       "    }\n",
       "</style>\n",
       "<table border=\"1\" class=\"dataframe\">\n",
       "  <thead>\n",
       "    <tr style=\"text-align: right;\">\n",
       "      <th></th>\n",
       "      <th>topic</th>\n",
       "      <th>政治</th>\n",
       "      <th>健康</th>\n",
       "      <th>Cat</th>\n",
       "      <th>Tokenized</th>\n",
       "    </tr>\n",
       "  </thead>\n",
       "  <tbody>\n",
       "    <tr>\n",
       "      <th>0</th>\n",
       "      <td>敦睦艦隊確診個案到訪地點:\\n 更新日指:109,4, 18+\\n 1、左營區:漢神巨蛋(添...</td>\n",
       "      <td>0</td>\n",
       "      <td>1</td>\n",
       "      <td>健康</td>\n",
       "      <td>敦睦 艦隊 確診 個案 到訪 地點 更新 日指 109418 +1 左營區 漢神 巨蛋 添好...</td>\n",
       "    </tr>\n",
       "    <tr>\n",
       "      <th>1</th>\n",
       "      <td>三艘軍艦744人，4/15離開左營海軍基地，4/18全體召回，第一次採檢及18日今分19日新...</td>\n",
       "      <td>0</td>\n",
       "      <td>1</td>\n",
       "      <td>健康</td>\n",
       "      <td>艘 軍艦 744 人 4/15 離開 左營 海軍 基地 4/18 全體 召回 第一 次 採檢...</td>\n",
       "    </tr>\n",
       "    <tr>\n",
       "      <th>2</th>\n",
       "      <td>https://youtu.be/cukrLiPj2Ck金正恩委員長死去【緊急ニュース速報】...</td>\n",
       "      <td>1</td>\n",
       "      <td>0</td>\n",
       "      <td>政治</td>\n",
       "      <td>🔽 サ ブ チ ャ ン ネ ル か み な り お や じ の 楽屋 裏 🔽 か み な り...</td>\n",
       "    </tr>\n",
       "    <tr>\n",
       "      <th>3</th>\n",
       "      <td>金正恩腦死 享年36歲，2020真是恐怖的一年\\n \\n #金正恩指定勞動黨第一副部長金與正...</td>\n",
       "      <td>1</td>\n",
       "      <td>0</td>\n",
       "      <td>政治</td>\n",
       "      <td>金正恩 腦死 享年 36 歲 2020 真是 恐怖 年 金正恩 指定 勞動黨 第一 副部長 ...</td>\n",
       "    </tr>\n",
       "    <tr>\n",
       "      <th>4</th>\n",
       "      <td>記得 今天、明天 2天內要去家樂福買東西順便領取1600元政府補助振興卷。切記！切記！不領白...</td>\n",
       "      <td>1</td>\n",
       "      <td>0</td>\n",
       "      <td>政治</td>\n",
       "      <td>記得 今天 明天 天 家樂福 買 東西 順便 領取 1600 元 政府 補助 振興卷 切記 ...</td>\n",
       "    </tr>\n",
       "  </tbody>\n",
       "</table>\n",
       "</div>"
      ],
      "text/plain": [
       "                                               topic  政治  健康 Cat  \\\n",
       "0  敦睦艦隊確診個案到訪地點:\\n 更新日指:109,4, 18+\\n 1、左營區:漢神巨蛋(添...   0   1  健康   \n",
       "1  三艘軍艦744人，4/15離開左營海軍基地，4/18全體召回，第一次採檢及18日今分19日新...   0   1  健康   \n",
       "2  https://youtu.be/cukrLiPj2Ck金正恩委員長死去【緊急ニュース速報】...   1   0  政治   \n",
       "3  金正恩腦死 享年36歲，2020真是恐怖的一年\\n \\n #金正恩指定勞動黨第一副部長金與正...   1   0  政治   \n",
       "4  記得 今天、明天 2天內要去家樂福買東西順便領取1600元政府補助振興卷。切記！切記！不領白...   1   0  政治   \n",
       "\n",
       "                                           Tokenized  \n",
       "0  敦睦 艦隊 確診 個案 到訪 地點 更新 日指 109418 +1 左營區 漢神 巨蛋 添好...  \n",
       "1  艘 軍艦 744 人 4/15 離開 左營 海軍 基地 4/18 全體 召回 第一 次 採檢...  \n",
       "2  🔽 サ ブ チ ャ ン ネ ル か み な り お や じ の 楽屋 裏 🔽 か み な り...  \n",
       "3  金正恩 腦死 享年 36 歲 2020 真是 恐怖 年 金正恩 指定 勞動黨 第一 副部長 ...  \n",
       "4  記得 今天 明天 天 家樂福 買 東西 順便 領取 1600 元 政府 補助 振興卷 切記 ...  "
      ]
     },
     "execution_count": 58,
     "metadata": {},
     "output_type": "execute_result"
    }
   ],
   "source": [
    "for i in range(len(df)):\n",
    "    df[\"Tokenized\"][i] = \" \".join(df[\"Tokenized\"][i])\n",
    "df.head()"
   ]
  },
  {
   "cell_type": "markdown",
   "metadata": {},
   "source": [
    "**Vectorize the text** \\\n",
    "The first parameter is the max_features parameter, which is set to 1500. This is because when you convert words to numbers using the bag of words approach, all the unique words in all the documents are converted into features. All the documents can contain tens of thousands of unique words. But the words that have a very low frequency of occurrence are unusually not a good parameter for classifying documents. \n",
    "\n",
    "The next parameter is min_df and it has been set to 5. This corresponds to the minimum number of documents that should contain this feature. So we only include those words that occur in at least 5 documents. Similarly, for the max_df, feature the value is set to 0.7; in which the fraction corresponds to a percentage. Here 0.7 means that we should include only those words that occur in a maximum of 70% of all the documents"
   ]
  },
  {
   "cell_type": "code",
   "execution_count": 129,
   "metadata": {},
   "outputs": [],
   "source": [
    "from sklearn.feature_extraction.text import CountVectorizer\n",
    "vectorizer = CountVectorizer(max_features=1500, min_df=5, max_df=0.8, stop_words=stopwords)\n",
    "X = vectorizer.fit_transform(df[\"Tokenized\"]).toarray()\n",
    "# The fit_transform function of the CountVectorizer class converts text documents into corresponding numeric features."
   ]
  },
  {
   "cell_type": "code",
   "execution_count": 130,
   "metadata": {},
   "outputs": [],
   "source": [
    "from sklearn.feature_extraction.text import TfidfTransformer\n",
    "tfidfconverter = TfidfTransformer()\n",
    "X = tfidfconverter.fit_transform(X).toarray()"
   ]
  },
  {
   "cell_type": "code",
   "execution_count": 131,
   "metadata": {},
   "outputs": [],
   "source": [
    "y = df[\"Cat\"]"
   ]
  },
  {
   "cell_type": "code",
   "execution_count": 132,
   "metadata": {},
   "outputs": [],
   "source": [
    "from sklearn.model_selection import train_test_split\n",
    "X_train, X_test, y_train, y_test = train_test_split(X, y, test_size=0.3, random_state=0)"
   ]
  },
  {
   "cell_type": "code",
   "execution_count": 133,
   "metadata": {},
   "outputs": [
    {
     "data": {
      "text/plain": [
       "RandomForestClassifier(bootstrap=True, ccp_alpha=0.0, class_weight=None,\n",
       "                       criterion='gini', max_depth=None, max_features='auto',\n",
       "                       max_leaf_nodes=None, max_samples=None,\n",
       "                       min_impurity_decrease=0.0, min_impurity_split=None,\n",
       "                       min_samples_leaf=1, min_samples_split=2,\n",
       "                       min_weight_fraction_leaf=0.0, n_estimators=1000,\n",
       "                       n_jobs=None, oob_score=False, random_state=0, verbose=0,\n",
       "                       warm_start=False)"
      ]
     },
     "execution_count": 133,
     "metadata": {},
     "output_type": "execute_result"
    }
   ],
   "source": [
    "from sklearn.ensemble import RandomForestClassifier\n",
    "classifier = RandomForestClassifier(n_estimators=1000, random_state=0)\n",
    "classifier.fit(X_train, y_train)"
   ]
  },
  {
   "cell_type": "code",
   "execution_count": 134,
   "metadata": {},
   "outputs": [],
   "source": [
    "y_pred = classifier.predict(X_test)"
   ]
  },
  {
   "cell_type": "code",
   "execution_count": 135,
   "metadata": {},
   "outputs": [
    {
     "name": "stdout",
     "output_type": "stream",
     "text": [
      "[[18  0  2]\n",
      " [ 2  0  0]\n",
      " [ 2  1  5]]\n",
      "              precision    recall  f1-score   support\n",
      "\n",
      "          健康       0.82      0.90      0.86        20\n",
      "          其他       0.00      0.00      0.00         2\n",
      "          政治       0.71      0.62      0.67         8\n",
      "\n",
      "    accuracy                           0.77        30\n",
      "   macro avg       0.51      0.51      0.51        30\n",
      "weighted avg       0.74      0.77      0.75        30\n",
      "\n",
      "0.7666666666666667\n"
     ]
    }
   ],
   "source": [
    "from sklearn.metrics import classification_report, confusion_matrix, accuracy_score\n",
    "\n",
    "print(confusion_matrix(y_test,y_pred))\n",
    "print(classification_report(y_test,y_pred))\n",
    "print(accuracy_score(y_test, y_pred))"
   ]
  },
  {
   "cell_type": "code",
   "execution_count": 136,
   "metadata": {},
   "outputs": [
    {
     "data": {
      "text/plain": [
       "(26    健康\n",
       " 84    政治\n",
       " 2     政治\n",
       " 55    健康\n",
       " 68    健康\n",
       " 81    其他\n",
       " 16    健康\n",
       " 78    政治\n",
       " 54    健康\n",
       " 66    健康\n",
       " 53    健康\n",
       " 89    健康\n",
       " 71    健康\n",
       " 13    政治\n",
       " 7     健康\n",
       " 30    健康\n",
       " 22    健康\n",
       " 24    健康\n",
       " 33    健康\n",
       " 8     健康\n",
       " 43    健康\n",
       " 62    健康\n",
       " 3     政治\n",
       " 86    健康\n",
       " 45    健康\n",
       " 48    其他\n",
       " 6     政治\n",
       " 96    政治\n",
       " 80    政治\n",
       " 75    健康\n",
       " Name: Cat, dtype: object,\n",
       " array(['政治', '政治', '健康', '健康', '健康', '健康', '健康', '政治', '政治', '健康', '健康',\n",
       "        '健康', '健康', '其他', '健康', '健康', '健康', '健康', '健康', '健康', '健康', '健康',\n",
       "        '健康', '健康', '健康', '健康', '政治', '政治', '政治', '健康'], dtype=object))"
      ]
     },
     "execution_count": 136,
     "metadata": {},
     "output_type": "execute_result"
    }
   ],
   "source": [
    "y_test, y_pred"
   ]
  },
  {
   "cell_type": "code",
   "execution_count": 137,
   "metadata": {},
   "outputs": [],
   "source": [
    "import pickle"
   ]
  },
  {
   "cell_type": "markdown",
   "metadata": {},
   "source": [
    "save the model"
   ]
  },
  {
   "cell_type": "code",
   "execution_count": 138,
   "metadata": {},
   "outputs": [],
   "source": [
    "with open('text_classifier', 'wb') as picklefile:\n",
    "    pickle.dump(classifier,picklefile)"
   ]
  },
  {
   "cell_type": "markdown",
   "metadata": {},
   "source": [
    "load the model"
   ]
  },
  {
   "cell_type": "code",
   "execution_count": 139,
   "metadata": {},
   "outputs": [],
   "source": [
    "with open('text_classifier', 'rb') as training_model:\n",
    "    model = pickle.load(training_model)"
   ]
  },
  {
   "cell_type": "code",
   "execution_count": 140,
   "metadata": {},
   "outputs": [
    {
     "name": "stdout",
     "output_type": "stream",
     "text": [
      "[[18  0  2]\n",
      " [ 2  0  0]\n",
      " [ 2  1  5]]\n",
      "              precision    recall  f1-score   support\n",
      "\n",
      "          健康       0.82      0.90      0.86        20\n",
      "          其他       0.00      0.00      0.00         2\n",
      "          政治       0.71      0.62      0.67         8\n",
      "\n",
      "    accuracy                           0.77        30\n",
      "   macro avg       0.51      0.51      0.51        30\n",
      "weighted avg       0.74      0.77      0.75        30\n",
      "\n",
      "0.7666666666666667\n"
     ]
    }
   ],
   "source": [
    "y_pred2 = model.predict(X_test)\n",
    "\n",
    "print(confusion_matrix(y_test, y_pred2))\n",
    "print(classification_report(y_test, y_pred2))\n",
    "print(accuracy_score(y_test, y_pred2)) "
   ]
  },
  {
   "cell_type": "code",
   "execution_count": null,
   "metadata": {},
   "outputs": [],
   "source": []
  }
 ],
 "metadata": {
  "kernelspec": {
   "display_name": "Python 3",
   "language": "python",
   "name": "python3"
  },
  "language_info": {
   "codemirror_mode": {
    "name": "ipython",
    "version": 3
   },
   "file_extension": ".py",
   "mimetype": "text/x-python",
   "name": "python",
   "nbconvert_exporter": "python",
   "pygments_lexer": "ipython3",
   "version": "3.7.6"
  }
 },
 "nbformat": 4,
 "nbformat_minor": 4
}
